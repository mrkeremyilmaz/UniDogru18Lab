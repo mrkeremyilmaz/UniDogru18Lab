{
 "cells": [
  {
   "cell_type": "markdown",
   "metadata": {},
   "source": [
    "# XOX Oyunu\n",
    " \n",
    "Merhaba arkadaşlar, \n",
    "\n",
    "Python diline giriş yaptık şimdi ise sizlerle XOX (diğer isimleriyle SOS, TicTacToe) oyunu yazacağız. \n",
    "\n",
    "Oyunumuzu metotlara bölerek sırasıyla metotlarımızı tamamladıktan sonra, main fonksiyonumuzu yazarak oyunu çalışmaya hazır hale getireceğiz.  \n",
    "\n",
    "Oyunu yazmayı bitirdikten sonra ise en sonda isteyenler için birkaç isteğe bağlı sorumuz olacak. "
   ]
  },
  {
   "cell_type": "markdown",
   "metadata": {
    "collapsed": true
   },
   "source": [
    "### Sırasıyla yazacağımız metotlar\n",
    "\n",
    "1. oyun_tahtasi_yazdir\n",
    "2. kullanici_harf_secme\n",
    "3. baslayacak_oyuncuyu_belirle\n",
    "4. harf_yerlestirme\n",
    "5. kazanani_belirle\n",
    "6. hareket_listesinden_random_sec\n",
    "7. oyun_tahtasi_kopyala\n",
    "8. harf_konumu_dolu_mu\n",
    "9. kullanici_oynasin\n",
    "10. bilgisayar_oynasin\n",
    "11. oyun_tahtasi_dolu_mu\n",
    "12. yeniden_oyna\n",
    "13. main function"
   ]
  },
  {
   "cell_type": "code",
   "execution_count": 14,
   "metadata": {
    "collapsed": true
   },
   "outputs": [],
   "source": [
    "## Bunu yazma sebebimiz 'random' kutuphanesinde bulunan baskasinin onceden yazdigi metotlari kullanabilmek.\n",
    "import random\n",
    "\n",
    "# Bu fonksiyonumuz XOX tablosunu konsola bastirir.\n",
    "\n",
    "## Yapilacaklar: ... yazan yerleri tamamlama\n",
    "\n",
    "### Ipucu: bir listede n indexindeki elemente erismek icin -> list_ismi[index]\n",
    "\n",
    "def oyun_tahtasini_goster(oyun_tahtasi):\n",
    "    \n",
    "    print('   |   |')\n",
    "    print(' ' + oyun_tahtasi[7] + ' | ' + oyun_tahtasi[8] + ' | ' + oyun_tahtasi[9])\n",
    "    print('   |   |')\n",
    "    print('-----------')\n",
    "    print('   |   |')\n",
    "    print(' ' + oyun_tahtasi[4] + ' | ' + oyun_tahtasi[5] + ' | ' + oyun_tahtasi[6])\n",
    "    print('   |   |')\n",
    "    print('-----------')\n",
    "    print('   |   |')\n",
    "    print(' ' + oyun_tahtasi[1] + ' | ' + oyun_tahtasi[2] + ' | ' + oyun_tahtasi[3])\n",
    "    print('   |   |')"
   ]
  },
  {
   "cell_type": "code",
   "execution_count": 2,
   "metadata": {
    "collapsed": true
   },
   "outputs": [],
   "source": [
    "# Bu fonksiyon kullaniciya hangi harf olarak oynamak istedigini sorar ve cevaba gore \n",
    "# bir listenin icerisinde ilk indexte kullanicinin istedigi harfi, ikinci indexte bilgisayarin \n",
    "# oynayacagi harfi dondurur (return eder)\n",
    "def kullanici_harf_secme():\n",
    "    harf = ''\n",
    "    while not (harf == 'X' or harf == 'O'):\n",
    "        print('X olarak mi oynamak istiyorsun yoksa O olarak mi?')\n",
    "        harf = input().upper() \n",
    "\n",
    "    if harf == 'X':\n",
    "        return ['X', 'O']\n",
    "    else:\n",
    "        return ['O', 'X']\n"
   ]
  },
  {
   "cell_type": "markdown",
   "metadata": {},
   "source": [
    "<span style=\"color:red\">**Python İpucu 1(input fonksiyonu):**</span><br>\n",
    "Kullanicidan klavye yoluyla girdi almak icin input metotu kullanilir.\n",
    "```python\n",
    "   isim = input()\n",
    "   yas = input()\n",
    "```"
   ]
  },
  {
   "cell_type": "code",
   "execution_count": 3,
   "metadata": {
    "collapsed": true
   },
   "outputs": [],
   "source": [
    "# Başlayacak oyuncuyu random olarak belirler.\n",
    "def baslayacak_oyuncuyu_belirle():\n",
    "    if random.randint(0, 1) == 0:\n",
    "        return 'bilgisayar'\n",
    "    else:\n",
    "        return 'oyuncu'"
   ]
  },
  {
   "cell_type": "code",
   "execution_count": 4,
   "metadata": {
    "collapsed": true
   },
   "outputs": [],
   "source": [
    "# Tahtanin uzerinde belirtilen konuma harfi yazar.\n",
    "def harf_yerlestirme(oyun_tahtasi, harf, konum):\n",
    "    oyun_tahtasi[konum] = harf"
   ]
  },
  {
   "cell_type": "code",
   "execution_count": 5,
   "metadata": {
    "collapsed": true
   },
   "outputs": [],
   "source": [
    "# oyuncu_tahtasi'nda oyuncunun_sectigi_harf kazandiysa True döndürür(return eder).\n",
    "# \n",
    "def kazanani_belirle(o_t, h):\n",
    "    return ((o_t[7] == h and o_t[8] == h and o_t[9] == h) or # en üst sıra - yatay\n",
    "    (o_t[4] == h and o_t[5] == h and o_t[6] == h) or # orta sıra - yatay\n",
    "    (o_t[1] == h and o_t[2] == h and o_t[3] == h) or # alt sıra - yatay\n",
    "    (o_t[7] == h and o_t[4] == h and o_t[1] == h) or # sol sıra - dikey\n",
    "    (o_t[8] == h and o_t[5] == h and o_t[2] == h) or # orta sıra - dikey\n",
    "    (o_t[9] == h and o_t[6] == h and o_t[3] == h) or # sağ sıra - dikey\n",
    "    (o_t[7] == h and o_t[5] == h and o_t[3] == h) or # köşegen 1\n",
    "    (o_t[9] == h and o_t[5] == h and o_t[1] == h)) # köşegen 2"
   ]
  },
  {
   "cell_type": "code",
   "execution_count": 6,
   "metadata": {
    "collapsed": true
   },
   "outputs": [],
   "source": [
    "# Hareket listesinden uygun olan bir hareketi random olarak secer ve return eder.\n",
    "# Eğer uygun bir hareket yoksa None döndürür.\n",
    "    \n",
    "def hareket_listesinden_random_sec(oyun_tahtasi, hareket_listesi):\n",
    "    hareket_listesi = []\n",
    "    for i in hareket_listesi:\n",
    "        if harf_konumu_dolu_mu(oyun_tahtasi, i):\n",
    "            hareket_listesi.append(i)\n",
    "\n",
    "    if len(hareket_listesi) != 0:\n",
    "        return random.choice(hareket_listesi)\n",
    "    else:\n",
    "        return None\n"
   ]
  },
  {
   "cell_type": "code",
   "execution_count": 7,
   "metadata": {
    "collapsed": true
   },
   "outputs": [],
   "source": [
    "# Oyun tahtasının kopyasını oluşturur ve onu return eder.\n",
    "\n",
    "def oyun_tahtasi_kopyala(oyun_tahtasi):\n",
    "    kopya_oyun_tahtasi = []\n",
    "\n",
    "    for i in oyun_tahtasi:\n",
    "        kopya_oyun_tahtasi.append(i)\n",
    "\n",
    "    return kopya_oyun_tahtasi"
   ]
  },
  {
   "cell_type": "code",
   "execution_count": 8,
   "metadata": {
    "collapsed": true
   },
   "outputs": [],
   "source": [
    "    # Harf konumu uygunsa True return eder.\n",
    "\n",
    "    def harf_konumu_dolu_mu(oyun_tahtasi, konum):\n",
    "        return oyun_tahtasi[konum] == ' '"
   ]
  },
  {
   "cell_type": "code",
   "execution_count": 9,
   "metadata": {
    "collapsed": true
   },
   "outputs": [],
   "source": [
    "# Kullanici sirasini oynar.\n",
    "\n",
    "def kullanici_oynasin(oyun_tahtasi):\n",
    "    konum = ' '\n",
    "    while konum not in '1 2 3 4 5 6 7 8 9'.split() or not harf_konumu_dolu_mu(oyun_tahtasi, int(konum)):\n",
    "        print('Siradaki hareketi secin. (1-9)')\n",
    "        konum = input()\n",
    "    return int(konum)"
   ]
  },
  {
   "cell_type": "markdown",
   "metadata": {},
   "source": [
    "<span style=\"color:red\">**Python İpucu 1(input fonksiyonu):**</span><br>\n",
    "Kullanicidan klavye yoluyla girdi almak icin input metotu kullanilir.\n",
    "```python\n",
    "   isim = input()\n",
    "   yas = input()\n",
    "```"
   ]
  },
  {
   "cell_type": "code",
   "execution_count": 10,
   "metadata": {
    "collapsed": true
   },
   "outputs": [],
   "source": [
    "# Bilgisayar sirasini oynar. \n",
    "\n",
    "def bilgisayar_oynasin(oyun_tahtasi, bilgisayar_harf):\n",
    "    if bilgisayar_harf == 'X':\n",
    "        oyuncu_harf = 'O'\n",
    "    else:\n",
    "        oyuncu_harf = 'X'\n",
    "\n",
    "    # Tic Tac Toe Yapay Zekasi icin algoritmamiz:\n",
    "    # Önce, kazanabilecek durumda olup olmadığımızı kontrol edelim\n",
    "    for i in range(1, 10):\n",
    "        kopya = oyun_tahtasi_kopyala(oyun_tahtasi)\n",
    "        if harf_konumu_dolu_mu(kopya, i):\n",
    "            harf_yerlestirme(kopya, bilgisayar_harf, i)\n",
    "            if kazanani_belirle(kopya, bilgisayar_harf):\n",
    "                return i\n",
    "\n",
    "    # Sonrasinda, oyuncunun sirasi gelince kazanip kazanamayacagini kontrol edip, eger kazanabilecekse\n",
    "    # o hareketi engellemeye calisalim\n",
    "    for i in range(1, 10):\n",
    "        kopya = oyun_tahtasi_kopyala(oyun_tahtasi)\n",
    "        if harf_konumu_dolu_mu(kopya, i):\n",
    "            harf_yerlestirme(kopya, oyuncu_harf, i)\n",
    "            if kazanani_belirle(kopya, oyuncu_harf):\n",
    "                return i\n",
    "\n",
    "    # Koselerden bir tanesi bossa almaya calisalim.\n",
    "    hareket = hareket_listesinden_random_sec(oyun_tahtasi, [1, 3, 7, 9])\n",
    "    if hareket != None:\n",
    "        return hareket\n",
    "\n",
    "    # Orta boşsa almaya çalışalım\n",
    "    if harf_konumu_dolu_mu(oyun_tahtasi, 5):\n",
    "        return 5\n",
    "\n",
    "    # Kenarları dolduralım.\n",
    "    return hareket_listesinden_random_sec(oyun_tahtasi, [2, 4, 6, 8])"
   ]
  },
  {
   "cell_type": "code",
   "execution_count": 11,
   "metadata": {
    "collapsed": true
   },
   "outputs": [],
   "source": [
    "# Tum tahta doluysa True, degilse False return eder. \n",
    "\n",
    "def oyun_tahtasi_dolu_mu(oyun_tahtasi):\n",
    "    for i in range(1, 10):\n",
    "        if harf_konumu_dolu_mu(oyun_tahtasi, i):\n",
    "            return False\n",
    "    return True"
   ]
  },
  {
   "cell_type": "code",
   "execution_count": 12,
   "metadata": {
    "collapsed": true
   },
   "outputs": [],
   "source": [
    "def tekrar_oyna():\n",
    "    print('Tekrar oynamak istiyor musun? (evet veya hayir)')\n",
    "    return input().lower().startswith('e')"
   ]
  },
  {
   "cell_type": "code",
   "execution_count": null,
   "metadata": {},
   "outputs": [
    {
     "name": "stdout",
     "output_type": "stream",
     "text": [
      "UD 2018 XOX'e Hos Geldiniz\n",
      "X olarak mi oynamak istiyorsun yoksa O olarak mi?\n",
      "x\n",
      "bilgisayar baslayacak.\n",
      "   |   |\n",
      "   |   |  \n",
      "   |   |\n",
      "-----------\n",
      "   |   |\n",
      "   | O |  \n",
      "   |   |\n",
      "-----------\n",
      "   |   |\n",
      "   |   |  \n",
      "   |   |\n",
      "Siradaki hareketi secin. (1-9)\n"
     ]
    }
   ],
   "source": [
    "print(\"UD 2018 XOX'e Hos Geldiniz\")\n",
    "\n",
    "while True:\n",
    "    # Tahtayi sifirlayalim\n",
    "    the_tahta = [' '] * 10\n",
    "    o_harf, b_harf = kullanici_harf_secme()\n",
    "    sira = baslayacak_oyuncuyu_belirle()\n",
    "    print(sira + ' baslayacak.')\n",
    "    oyun_devam = True\n",
    "\n",
    "    while oyun_devam:\n",
    "        if sira == 'oyuncu':\n",
    "            # Oyuncunun sirasi.\n",
    "            oyun_tahtasi_yazdir(the_tahta)\n",
    "            hareket = kullanici_oynasin(the_tahta)\n",
    "            harf_yerlestirme(the_tahta, o_harf, hareket)\n",
    "\n",
    "            if kazanani_belirle(the_tahta, o_harf):\n",
    "                oyun_tahtasi_yazdir(the_tahta)\n",
    "                print('Tebrikler, KAZANDIN!')\n",
    "                oyun_devam = False\n",
    "            else:\n",
    "                if oyun_tahtasi_dolu_mu(the_tahta):\n",
    "                    oyun_tahtasi_yazdir(the_tahta)\n",
    "                    print('Oyun berabere!')\n",
    "                    break\n",
    "                else:\n",
    "                    sira = 'bilgisayar'\n",
    "\n",
    "        else:\n",
    "            # Bilgisayarin sirasi.\n",
    "            hareket = bilgisayar_oynasin(the_tahta, b_harf)\n",
    "            harf_yerlestirme(the_tahta, b_harf, hareket)\n",
    "\n",
    "            if kazanani_belirle(the_tahta, b_harf):\n",
    "                oyun_tahtasi_yazdir(the_tahta)\n",
    "                print('Bilgisayar kazandi, KAYBETTIN!')\n",
    "                oyun_devam = False\n",
    "            else:\n",
    "                if oyun_tahtasi_dolu_mu(the_tahta):\n",
    "                    oyun_tahtasi_yazdir(the_tahta)\n",
    "                    print('Oyun berabere!')\n",
    "                    break\n",
    "                else:\n",
    "                    sira = 'oyuncu'\n",
    "\n",
    "    if not yeniden_oyna():\n",
    "        break\n"
   ]
  }
 ],
 "metadata": {
  "kernelspec": {
   "display_name": "Python 3",
   "language": "python",
   "name": "python3"
  },
  "language_info": {
   "codemirror_mode": {
    "name": "ipython",
    "version": 3
   },
   "file_extension": ".py",
   "mimetype": "text/x-python",
   "name": "python",
   "nbconvert_exporter": "python",
   "pygments_lexer": "ipython3",
   "version": "3.6.3"
  }
 },
 "nbformat": 4,
 "nbformat_minor": 2
}
