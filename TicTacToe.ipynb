{
 "cells": [
  {
   "cell_type": "markdown",
   "metadata": {},
   "source": [
    "# XOX Oyunu\n",
    " \n",
    "Merhaba arkadaşlar, \n",
    "\n",
    "Python diline giriş yaptık şimdi ise sizlerle XOX (diğer isimleriyle SOS, TicTacToe) oyunu yazacağız. \n",
    "\n",
    "Oyunumuzu metotlara bölerek sırasıyla metotlarımızı tamamladıktan sonra, main fonksiyonumuzu yazarak oyunu çalışmaya hazır hale getireceğiz.  \n",
    "\n",
    "Oyunu yazmayı bitirdikten sonra ise en sonda isteyenler için birkaç isteğe bağlı sorumuz olacak. "
   ]
  },
  {
   "cell_type": "markdown",
   "metadata": {
    "collapsed": true
   },
   "source": [
    "### Sırasıyla yazacağımız metotlar\n",
    "\n",
    "1. oyun_tahtasi_yazdir\n",
    "2. kullanici_harf_secme\n",
    "3. baslayacak_oyuncuyu_belirle\n",
    "4. harf_yerlestirme\n",
    "5. kazanani_belirle\n",
    "6. hareket_listesinden_random_sec\n",
    "7. oyun_tahtasi_kopyala\n",
    "8. harf_konumu_dolu_mu\n",
    "9. kullanici_oynasin\n",
    "10. bilgisayar_oynasin\n",
    "11. oyun_tahtasi_dolu_mu\n",
    "12. main function\n",
    "13. chooseRandomMoveFromList"
   ]
  },
  {
   "cell_type": "code",
   "execution_count": null,
   "metadata": {
    "collapsed": true
   },
   "outputs": [],
   "source": [
    "## Bunu yazma sebebimiz 'random' kutuphanesinde bulunan baskasinin onceden yazdigi metotlari kullanabilmek.\n",
    "import random\n",
    "\n",
    "# Bu fonksiyonumuz XOX tablosunu konsola bastirir.\n",
    "\n",
    "## Yapilacaklar: ... yazan yerleri tamamlama\n",
    "\n",
    "### Ipucu: bir listede n indexindeki elemente erismek icin -> list_ismi[index]\n",
    "\n",
    "def oyun_tahtasi_yazdir(oyun_tahtasi):\n",
    "    print('   |   |')\n",
    "    print(' ' + ... + ' | ' + ... + ' | ' + ...)\n",
    "    print('   |   |')\n",
    "    print('-----------')\n",
    "    print('   |   |')\n",
    "    print(' ' + ... + ' | ' + ... + ' | ' + ...)\n",
    "    print('   |   |')\n",
    "    print('-----------')\n",
    "    print('   |   |')\n",
    "    print(' ' + ... + ' | ' + ... + ' | ' + ...)\n",
    "    print('   |   |')"
   ]
  },
  {
   "cell_type": "code",
   "execution_count": null,
   "metadata": {
    "collapsed": true
   },
   "outputs": [],
   "source": [
    "# Bu fonksiyon kullaniciya hangi harf olarak oynamak istedigini sorar ve cevaba gore \n",
    "# bir listenin icerisinde ilk indexte kullanicinin istedigi harfi, ikinci indexte bilgisayarin \n",
    "# oynayacagi harfi dondurur (return eder)\n",
    "def kullanici_harf_secme():\n",
    "    harf = ''\n",
    "    while not (harf == 'X' or harf == 'O'):\n",
    "        print('X olarak mi oynamak istiyorsun yoksa O olarak mi?')\n",
    "        harf = input().upper() \n",
    "\n",
    "    if harf == 'X':\n",
    "        return ['X', 'O']\n",
    "    else:\n",
    "        return ['O', 'X']\n"
   ]
  },
  {
   "cell_type": "markdown",
   "metadata": {},
   "source": [
    "<span style=\"color:red\">**Python İpucu 1(input fonksiyonu):**</span><br>\n",
    "TODO_TODO_TODO_TODO_TODO_TODO_TODO_TODO_TODO_TODO_TODO_TODO_TODO_TODO\n",
    "```python\n",
    "   \n",
    "```"
   ]
  },
  {
   "cell_type": "code",
   "execution_count": null,
   "metadata": {
    "collapsed": true
   },
   "outputs": [],
   "source": [
    "# Başlayacak oyuncuyu random olarak belirler.\n",
    "def baslayacak_oyuncuyu_belirle():\n",
    "    if random.randint(0, 1) == 0:\n",
    "        return 'bilgisayar'\n",
    "    else:\n",
    "        return 'oyuncu'"
   ]
  },
  {
   "cell_type": "code",
   "execution_count": null,
   "metadata": {
    "collapsed": true
   },
   "outputs": [],
   "source": [
    "# TODO\n",
    "def harf_yerlestirme(oyun_tahtasi, harf, konum):\n",
    "    oyun_tahtasi[konum] = harf"
   ]
  },
  {
   "cell_type": "code",
   "execution_count": 1,
   "metadata": {
    "collapsed": true
   },
   "outputs": [],
   "source": [
    "# oyuncu_tahtasi'nda oyuncunun_sectigi_harf kazandiysa True döndürür(return eder).\n",
    "### TODOOOOOOO\n",
    "def kazanani_belirle(tahta, harf):\n",
    "    return ((oyun_tahtasi[7] == le and oyun_tahtasi[8] == le and bo[9] == le) or # en üst sıra - yatay\n",
    "    (bo[4] == le and bo[5] == le and bo[6] == le) or # orta sıra - yatay\n",
    "    (bo[1] == le and bo[2] == le and bo[3] == le) or # alt sıra - yatay\n",
    "    (bo[7] == le and bo[4] == le and bo[1] == le) or # sol sıra - dikey\n",
    "    (bo[8] == le and bo[5] == le and bo[2] == le) or # orta sıra - dikey\n",
    "    (bo[9] == le and bo[6] == le and bo[3] == le) or # sağ sıra - dikey\n",
    "    (bo[7] == le and bo[5] == le and bo[3] == le) or # köşegen 1\n",
    "    (bo[9] == le and bo[5] == le and bo[1] == le)) # köşegen 2"
   ]
  },
  {
   "cell_type": "code",
   "execution_count": null,
   "metadata": {
    "collapsed": true
   },
   "outputs": [],
   "source": [
    "# Hareket listesinden uygun olan bir hareketi random olarak secer ve return eder.\n",
    "# Eğer uygun bir hareket yoksa None döndürür.\n",
    "    \n",
    "def hareket_listesinden_random_sec(oyun_tahtasi, hareket_listesi):\n",
    "    hareket_listesi = []\n",
    "    for i in hareket_listesi:\n",
    "        if harf_konumu_dolu_mu(oyun_tahtasi, i):\n",
    "            hareket_listesi.append(i)\n",
    "\n",
    "    if len(hareket_listesi) != 0:\n",
    "        return random.choice(hareket_listesi)\n",
    "    else:\n",
    "        return None\n"
   ]
  },
  {
   "cell_type": "code",
   "execution_count": null,
   "metadata": {
    "collapsed": true
   },
   "outputs": [],
   "source": [
    "# Oyun tahtasının kopyasını oluşturur ve onu return eder.\n",
    "\n",
    "def oyun_tahtasi_kopyala(oyun_tahtasi):\n",
    "    kopya_oyun_tahtasi = []\n",
    "\n",
    "    for i in oyun_tahtasi:\n",
    "        kopya_oyun_tahtasi.append(i)\n",
    "\n",
    "    return kopya_oyun_tahtasi"
   ]
  },
  {
   "cell_type": "code",
   "execution_count": null,
   "metadata": {
    "collapsed": true
   },
   "outputs": [],
   "source": [
    "# Harf konumu uygunsa True return eder.\n",
    "\n",
    "def harf_konumu_dolu_mu(oyun_tahtasi, konum):\n",
    "    return board[konum] == ' '"
   ]
  },
  {
   "cell_type": "code",
   "execution_count": null,
   "metadata": {
    "collapsed": true
   },
   "outputs": [],
   "source": [
    "# Kullanici sirasini oynar.\n",
    "\n",
    "def kullanici_oynasin(oyun_tahtasi):\n",
    "    konum = ' '\n",
    "    while konum not in ['1' '2' '3' '4' '5' '6' '7' '8' '9'] or not harf_konumu_dolu_mu(oyun_tahtasi, int(konum)):\n",
    "        print('Siradaki hareketi secin. (1-9)')\n",
    "        konum = input()\n",
    "    return int(hareket)"
   ]
  },
  {
   "cell_type": "code",
   "execution_count": null,
   "metadata": {
    "collapsed": true
   },
   "outputs": [],
   "source": [
    "INT FUNC ANLAT"
   ]
  },
  {
   "cell_type": "code",
   "execution_count": null,
   "metadata": {
    "collapsed": true
   },
   "outputs": [],
   "source": [
    "# Bilgisayar sirasini oynar. \n",
    "\n",
    "def bilgisayar_oynasin(oyun_tahtasi, bilgisayar_harf):\n",
    "    if bilgisayar_harf == 'X':\n",
    "        oyuncu_harf = 'O'\n",
    "    else:\n",
    "        oyuncu_harf = 'X'\n",
    "\n",
    "    # Tic Tac Toe Yapay Zekasi icin algoritmamiz:\n",
    "    # Önce, kazanabilecek durumda olup olmadığımızı kontrol edelim\n",
    "    for i in range(1, 10):\n",
    "        kopya = oyun_tahtasi_kopyala(oyun_tahtasi)\n",
    "        if harf_konumu_dolu_mu(kopya, i):\n",
    "            X_O_yazma(kopya, bilgisayar_harf, i)\n",
    "            if kazanani_belirle(kopya, bilgisayar_harf):\n",
    "                return i\n",
    "\n",
    "    # Sonrasinda, oyuncunun sirasi gelince kazanip kazanamayacagini kontrol edip, eger kazanabilecekse\n",
    "    # o hareketi engellemeye calisalim\n",
    "    for i in range(1, 10):\n",
    "        kopya = oyun_tahtasi_kopyala(oyun_tahtasi)\n",
    "        if harf_konumu_dolu_mu(kopya, i):\n",
    "            X_O_yazma(kopya, oyuncu_harf, i)\n",
    "            if kazanani_belirle(kopya, oyuncu_harf):\n",
    "                return i\n",
    "\n",
    "    # Koselerden bir tanesi bossa almaya calisalim.\n",
    "    hareket = hareket_listesinden_random_sec(oyun_tahtasi, [1, 3, 7, 9])\n",
    "    if hareket != None:\n",
    "        return hareket\n",
    "\n",
    "    # Orta boşsa almaya çalışalım\n",
    "    if harf_konumu_dolu_mu(oyun_tahtasi, 5):\n",
    "        return 5\n",
    "\n",
    "    # Kenarları dolduralım.\n",
    "    return hareket_listesinden_random_sec(oyun_tahtasi, [2, 4, 6, 8])"
   ]
  },
  {
   "cell_type": "code",
   "execution_count": null,
   "metadata": {
    "collapsed": true
   },
   "outputs": [],
   "source": [
    "\n",
    "print(\"UD 2018 XOX'e Hos Geldiniz\")\n",
    "\n",
    "while True:\n",
    "    # Tahtayi sifirlayalim\n",
    "    the_tahta = [' '] * 10\n",
    "    o_harf, b_harf = inputPlayerLetter()\n",
    "    turn = whoGoesFirst()\n",
    "    print('The ' + turn + ' will go first.')\n",
    "    gameIsPlaying = True\n",
    "\n",
    "    while gameIsPlaying:\n",
    "        if turn == 'player':\n",
    "            # Player's turn.\n",
    "            drawBoard(theBoard)\n",
    "            move = getPlayerMove(theBoard)\n",
    "            makeMove(theBoard, playerLetter, move)\n",
    "\n",
    "            if isWinner(theBoard, playerLetter):\n",
    "                drawBoard(theBoard)\n",
    "                print('Hooray! You have won the game!')\n",
    "                gameIsPlaying = False\n",
    "            else:\n",
    "                if isBoardFull(theBoard):\n",
    "                    drawBoard(theBoard)\n",
    "                    print('The game is a tie!')\n",
    "                    break\n",
    "                else:\n",
    "                    turn = 'computer'\n",
    "\n",
    "        else:\n",
    "            # Computer's turn.\n",
    "            move = getComputerMove(theBoard, computerLetter)\n",
    "            makeMove(theBoard, computerLetter, move)\n",
    "\n",
    "            if isWinner(theBoard, computerLetter):\n",
    "                drawBoard(theBoard)\n",
    "                print('The computer has beaten you! You lose.')\n",
    "                gameIsPlaying = False\n",
    "            else:\n",
    "                if isBoardFull(theBoard):\n",
    "                    drawBoard(theBoard)\n",
    "                    print('The game is a tie!')\n",
    "                    break\n",
    "                else:\n",
    "                    turn = 'player'\n",
    "\n",
    "    if not playAgain():\n",
    "        break\n"
   ]
  }
 ],
 "metadata": {
  "kernelspec": {
   "display_name": "Python 3",
   "language": "python",
   "name": "python3"
  },
  "language_info": {
   "codemirror_mode": {
    "name": "ipython",
    "version": 3
   },
   "file_extension": ".py",
   "mimetype": "text/x-python",
   "name": "python",
   "nbconvert_exporter": "python",
   "pygments_lexer": "ipython3",
   "version": "3.6.3"
  }
 },
 "nbformat": 4,
 "nbformat_minor": 2
}
