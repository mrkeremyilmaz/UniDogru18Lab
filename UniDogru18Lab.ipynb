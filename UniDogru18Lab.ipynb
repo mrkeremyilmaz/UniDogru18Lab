{
 "cells": [
  {
   "cell_type": "markdown",
   "metadata": {},
   "source": [
    "# Üniversiteye Doğru 2018 Bilgisayar Mühendisliği Labı\n",
    "---------\n",
    "\n",
    "## Bugün neler yapacağız?\n",
    "\n",
    "1. Bir kaç basit soru\n",
    "2. Programlamaya geçmeden önce bazı tanımlar\n",
    "3. Python programlama diline giriş\n",
    "4. Soru / Cevap\n",
    "\n"
   ]
  },
  {
   "cell_type": "markdown",
   "metadata": {},
   "source": [
    "## 2. Programlamaya Geçmeden Önce Bazı Tanımlar\n",
    "-------\n",
    "* Değişkenler (Variables): Değişkenler basitçe veri depolarıdır. Bir değeri daha sonra kullanabilmek için ona isim vererek değişken tanımlamış oluruz. Değişkenlerin değerleri daha sonra programın içerisinde değiştirilebilir. \n",
    "\n",
    "<span style=\"color:blue\">**Örnek:**</span><br>\n",
    "```python\n",
    "dolar_deger = 4.58\n",
    "tl_100_dolar = 100 * dolar_deger\n",
    "```\n",
    "Peki neden değişkenleri kullanırız? \n",
    "\n",
    "İçerisinde 250 farklı yerde doların TL karşılığının kullanıldığı 10,000 satırlık bir program hayal edin.\n",
    "\n",
    "Eğer bu 250 farklı yere doların güncel değerini ondalıklı sayı olarak yazsaydık ve bu değeri daha sonra değiştirmemiz gerekseydi 250 farklı yerdeki değeri tek tek değiştirmemiz gerekirdi. <span style=\"color:green\"> (Başka fikriniz varsa paylaşmaktan çekinmeyin ;) )</span>\n",
    "\n",
    "Bu ve benzer problemlerin önüne geçmek için değişkenler oluşturmalıyız. İsterse 10,000 satırlık kodda 250 kullanmış olalım, isterse 1,000,000,000 satırlık kodda 50,000 kere kullanmış olalım doların TL değerini güncellememiz gerektiğinde sadece örnekte gördüğünüz gibi tek yerde değişiklik yapmamız yeterli olacaktır.\n",
    "```python\n",
    "dolar_deger = <yeni deger>\n",
    "```\n",
    "------\n",
    "* Veri tipleri (Data types): Az önce verileri değişkenlerde depolamaktan bahsettik, şimdi de biraz verilerin tiplerinden bahsedeceğiz. Gerçek hayatta olduğu gibi Python'da da her şeyin ait olduğu bir tür vardır. Bazı programlama dillerinde değişkeni tanımlarken değişken tipini belirtmemiz gerekse de önceki örnekte gördüğünüz gibi Python bu dillerden değildir.\n",
    "\n",
    "<span style=\"color:blue\">**Örnek (Java):**</span><br>\n",
    "```java\n",
    "int yil = 2018;\n",
    "double boy_uzunlugu = 1.83;\n",
    "boolean mezun = false;\n",
    "char a_harfi = '9';\n",
    "String universite_adi = \"Ihsan Dogramaci Bilkent Universitesi\";\n",
    "```\n",
    "\n",
    "<span style=\"color:blue\">**Örnek (Python):**</span><br>\n",
    "```python\n",
    "yil = 2018\n",
    "boy_uzunlugu = 1.83\n",
    "mezun = false\n",
    "a_harfi = '9'\n",
    "universite_adi = \"Ihsan Dogramaci Bilkent Universitesi\"\n",
    "```\n",
    "-------------------------------------------------------------------------------------\n",
    "<span style=\"color:red\">**Python İpucu 1:**</span><br>\n",
    "Python'da bir değeri konsola yazdırmak için print fonksiyonu kullanılır. \n",
    "```python\n",
    "   print(<degisken> veya <veri>) \n",
    "```"
   ]
  },
  {
   "cell_type": "code",
   "execution_count": 7,
   "metadata": {},
   "outputs": [
    {
     "name": "stdout",
     "output_type": "stream",
     "text": [
      "<class 'int'>\n",
      "<class 'float'>\n",
      "<class 'bool'>\n",
      "<class 'str'>\n"
     ]
    }
   ],
   "source": [
    "yil = 2018\n",
    "boy_uzunlugu = 1.83\n",
    "mezun = False\n",
    "a_harfi = '9'\n",
    "\n",
    "print( type(yil))\n",
    "print( type(boy_uzunlugu))\n",
    "print( type(mezun))\n",
    "print( type(a_harfi))"
   ]
  },
  {
   "cell_type": "markdown",
   "metadata": {},
   "source": [
    "* Kontrol Yapıları (Control structures):\n",
    "\n",
    "* Döngüler (Loops): "
   ]
  }
 ],
 "metadata": {
  "kernelspec": {
   "display_name": "Python 3",
   "language": "python",
   "name": "python3"
  },
  "language_info": {
   "codemirror_mode": {
    "name": "ipython",
    "version": 3
   },
   "file_extension": ".py",
   "mimetype": "text/x-python",
   "name": "python",
   "nbconvert_exporter": "python",
   "pygments_lexer": "ipython3",
   "version": "3.6.3"
  }
 },
 "nbformat": 4,
 "nbformat_minor": 2
}
